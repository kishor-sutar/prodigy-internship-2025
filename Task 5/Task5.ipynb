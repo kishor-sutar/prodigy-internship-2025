{
 "cells": [
  {
   "cell_type": "code",
   "execution_count": 18,
   "id": "6d4928c0-c23f-4efe-b2ef-3fefc006c579",
   "metadata": {},
   "outputs": [],
   "source": [
    "import requests\n",
    "from bs4 import BeautifulSoup\n",
    "\n",
    "url = 'http://books.toscrape.com/'\n",
    "response = requests.get(url)\n",
    "\n",
    "if response.status_code == 200:\n",
    "    soup = BeautifulSoup(response.content, 'html.parser')\n",
    "else:\n",
    "    print(f'Failed to retrieve the webpage. Status code: {response.status_code}')\n"
   ]
  },
  {
   "cell_type": "code",
   "execution_count": 19,
   "id": "83656a05-d360-4496-ad67-cc6615435d63",
   "metadata": {},
   "outputs": [],
   "source": [
    "books = soup.find_all('article', class_='product_pod')\n",
    "\n",
    "book_list = []\n",
    "\n",
    "for book in books:\n",
    "    # Title\n",
    "    title = book.h3.a['title']\n",
    "    \n",
    "    # Price\n",
    "    price = book.find('p', class_='price_color').text\n",
    "    \n",
    "    # Availability\n",
    "    availability = book.find('p', class_='instock availability').text.strip()\n",
    "    \n",
    "    # Data Dictionary\n",
    "    book_data = {\n",
    "        'Title': title,\n",
    "        'Price': price,\n",
    "        'Availability': availability\n",
    "    }\n",
    "    \n",
    "    book_list.append(book_data)\n"
   ]
  },
  {
   "cell_type": "code",
   "execution_count": 20,
   "id": "7405268b-6334-4d31-8233-78c1d5df1c09",
   "metadata": {},
   "outputs": [],
   "source": [
    "import time\n",
    "\n",
    "book_list = []\n",
    "\n",
    "for page in range(1, 51):  # Assuming there are 50 pages\n",
    "    url = f'http://books.toscrape.com/catalogue/page-{page}.html'\n",
    "    response = requests.get(url)\n",
    "    \n",
    "    if response.status_code != 200:\n",
    "        break  # Exit the loop if we've reached the last page\n",
    "    \n",
    "    soup = BeautifulSoup(response.content, 'html.parser')\n",
    "    books = soup.find_all('article', class_='product_pod')\n",
    "    \n",
    "    for book in books:\n",
    "        title = book.h3.a['title']\n",
    "        price = book.find('p', class_='price_color').text\n",
    "        availability = book.find('p', class_='instock availability').text.strip()\n",
    "        \n",
    "        book_data = {\n",
    "            'Title': title,\n",
    "            'Price': price,\n",
    "            'Availability': availability\n",
    "        }\n",
    "        \n",
    "        book_list.append(book_data)\n",
    "    \n",
    "    time.sleep(1)  # Be polite and don't spam requests too rapidly\n"
   ]
  },
  {
   "cell_type": "code",
   "execution_count": 22,
   "id": "1f650c14-f026-4428-ae79-8e494d49aa2a",
   "metadata": {},
   "outputs": [],
   "source": [
    "import pandas as pd\n",
    "\n",
    "df = pd.DataFrame(book_list)\n",
    "df.to_csv('books_data.csv', index=False)\n"
   ]
  },
  {
   "cell_type": "code",
   "execution_count": null,
   "id": "48163a49-786b-44b3-82c7-90e570f5e7bf",
   "metadata": {},
   "outputs": [],
   "source": []
  }
 ],
 "metadata": {
  "kernelspec": {
   "display_name": "Python 3 (ipykernel)",
   "language": "python",
   "name": "python3"
  },
  "language_info": {
   "codemirror_mode": {
    "name": "ipython",
    "version": 3
   },
   "file_extension": ".py",
   "mimetype": "text/x-python",
   "name": "python",
   "nbconvert_exporter": "python",
   "pygments_lexer": "ipython3",
   "version": "3.12.1"
  }
 },
 "nbformat": 4,
 "nbformat_minor": 5
}
